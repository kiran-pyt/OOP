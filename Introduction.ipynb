{
  "nbformat": 4,
  "nbformat_minor": 0,
  "metadata": {
    "colab": {
      "provenance": [],
      "authorship_tag": "ABX9TyMquwbgRNj/ZVBDgHRPo+SE",
      "include_colab_link": true
    },
    "kernelspec": {
      "name": "python3",
      "display_name": "Python 3"
    },
    "language_info": {
      "name": "python"
    }
  },
  "cells": [
    {
      "cell_type": "markdown",
      "metadata": {
        "id": "view-in-github",
        "colab_type": "text"
      },
      "source": [
        "<a href=\"https://colab.research.google.com/github/kiran-pyt/Back-pro/blob/main/Introduction.ipynb\" target=\"_parent\"><img src=\"https://colab.research.google.com/assets/colab-badge.svg\" alt=\"Open In Colab\"/></a>"
      ]
    },
    {
      "cell_type": "code",
      "execution_count": null,
      "metadata": {
        "id": "2kXQt2rMzTxE"
      },
      "outputs": [],
      "source": []
    },
    {
      "cell_type": "markdown",
      "source": [
        "**What is Class ?**\n",
        "\n",
        "Class combines data and with realted functions/methods\n",
        "\n",
        "Operations are handled by functions/methods \n",
        "\n",
        "Data is handle by varibles "
      ],
      "metadata": {
        "id": "AtzmaRb1zXCb"
      }
    },
    {
      "cell_type": "markdown",
      "source": [
        "Class consist of two types of varibles\n",
        "\n",
        "1)Static Varibles\n",
        "\n",
        "2)Non-Static Varibles"
      ],
      "metadata": {
        "id": "ZG4xjUgpzVhZ"
      }
    },
    {
      "cell_type": "markdown",
      "source": [
        "**Syntax:**\n",
        "\n",
        "    class classname:\n",
        "        \"\"\"doc string\"\"\"   -->says about the functionality of  a class\n",
        "        ----------------\n",
        "        ----------------\n",
        "        ---------------- -------->data(variables)+methods\n",
        "        ----------------\n",
        "\n"
      ],
      "metadata": {
        "id": "mWUB1yqy4vxv"
      }
    },
    {
      "cell_type": "markdown",
      "source": [
        "Class consist of following\n",
        "\n",
        "1) Doc String-----> Optinonal\n",
        "\n",
        "2) static varibles\n",
        "\n",
        "3) Non-Static varibles\n",
        "\n",
        "4) Methods"
      ],
      "metadata": {
        "id": "ez2d-O786AUi"
      }
    },
    {
      "cell_type": "markdown",
      "source": [
        "**Object**\n",
        "\n",
        "Object is instance of class \n",
        "\n",
        "A class is collection of similar Objects\n",
        "\n",
        "A class can have n number of Objects which consist of itws own data and functions"
      ],
      "metadata": {
        "id": "Dt7_FSMz6iS1"
      }
    },
    {
      "cell_type": "markdown",
      "source": [
        "Static Varible:\n",
        "If data is Constant from object to object then we can use static varible,for exmaple: Name of the Bank or company\n",
        "\n",
        "Always static varibles are defined within the calss and outsisde the methods( I will explain what are methods and how they are different from functions in my upcoming programs"
      ],
      "metadata": {
        "id": "mXV0U6147SBs"
      }
    },
    {
      "cell_type": "code",
      "source": [
        "## First program"
      ],
      "metadata": {
        "id": "aCPVAznu6g6V"
      },
      "execution_count": null,
      "outputs": []
    },
    {
      "cell_type": "code",
      "source": [
        "class test:               #--------------- Defining the class\n",
        "  \"\"\"Frist program\"\"\"     #---------------Doc String\n",
        "  x=10                    #-------------- Defining Static varible\n",
        "  def sample(self):       #-------------- Defining Method\n",
        "    print(test.x)         #-------------- Acessing the static varible from inside of method\n",
        "\n",
        "t1=test()                #------------------- defining object\n",
        "t1.sample()              #------------------Calling the method using using object\n",
        "print(test.x)            # ----------------- Acessing the static varible outside the class\n"
      ],
      "metadata": {
        "colab": {
          "base_uri": "https://localhost:8080/"
        },
        "id": "8jG5yRm34uOX",
        "outputId": "a84371fd-964f-4b7f-caaa-dede3ce87779"
      },
      "execution_count": null,
      "outputs": [
        {
          "output_type": "stream",
          "name": "stdout",
          "text": [
            "10\n",
            "10\n"
          ]
        }
      ]
    },
    {
      "cell_type": "markdown",
      "source": [
        "**Properites of static varibles:**\n",
        "\n",
        "A static varibles are always defined within the calss outside the methods\n",
        "\n",
        "A static varibles are no way related to object\n",
        "\n",
        "For static varibles only once memory allocated\n",
        "\n",
        "Within the class and outside the calss static varibles are accesssed with class \n",
        "name \n",
        "\n",
        "A static varibles are use when the data is common object to object\n",
        "\n",
        "A static variable can be accessed by all the methods of that class and also \n",
        "   by other classes"
      ],
      "metadata": {
        "id": "F-xrt9yn9qBn"
      }
    },
    {
      "cell_type": "code",
      "source": [],
      "metadata": {
        "id": "EADI50k74R6F"
      },
      "execution_count": null,
      "outputs": []
    },
    {
      "cell_type": "markdown",
      "source": [],
      "metadata": {
        "id": "_Hw3-evD4qsD"
      }
    }
  ]
}
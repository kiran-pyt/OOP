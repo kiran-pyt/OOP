{
  "nbformat": 4,
  "nbformat_minor": 0,
  "metadata": {
    "colab": {
      "provenance": [],
      "authorship_tag": "ABX9TyNQNqhcpd9csZqLV50Ud1Go",
      "include_colab_link": true
    },
    "kernelspec": {
      "name": "python3",
      "display_name": "Python 3"
    },
    "language_info": {
      "name": "python"
    }
  },
  "cells": [
    {
      "cell_type": "markdown",
      "metadata": {
        "id": "view-in-github",
        "colab_type": "text"
      },
      "source": [
        "<a href=\"https://colab.research.google.com/github/kiran-pyt/OOP/blob/main/NSV.ipynb\" target=\"_parent\"><img src=\"https://colab.research.google.com/assets/colab-badge.svg\" alt=\"Open In Colab\"/></a>"
      ]
    },
    {
      "cell_type": "code",
      "execution_count": 6,
      "metadata": {
        "id": "4SHuMoYpWUpD"
      },
      "outputs": [],
      "source": [
        "class test:\n",
        "  x=10             #------------------> static variable\n",
        "  y=20             #------------------> static variable\n",
        "  def m1(self):\n",
        "    self.w=30      #------------------>Non static variable\n",
        "    self.z=20      #------------------>Non static variable\n",
        "    self.r=self.w+self.z  #------------------> Addition of two static varibles \n",
        "    print(self.r)\n",
        "    print(self)          #----------------------> Addresss of self method1\n",
        "  def m2(self):          \n",
        "    self.m=self.r+test.x+test.y    #------------------> Acessing the non static variable in other method\n",
        "    print(self.m)\n",
        "    print(self)          #----------------------> Addresss of self method1\n",
        "t1=test() # Here object will be created with some address and this address will be stored in the varaible t1 called as  a reference varaible"
      ]
    },
    {
      "cell_type": "code",
      "source": [
        "t1.m1()"
      ],
      "metadata": {
        "colab": {
          "base_uri": "https://localhost:8080/"
        },
        "id": "Cs7smKjiW3wb",
        "outputId": "d5375891-4e71-42e0-a233-1d92b5ce67e6"
      },
      "execution_count": 7,
      "outputs": [
        {
          "output_type": "stream",
          "name": "stdout",
          "text": [
            "50\n",
            "<__main__.test object at 0x7f5aad123430>\n"
          ]
        }
      ]
    },
    {
      "cell_type": "code",
      "source": [
        "t1.m2()"
      ],
      "metadata": {
        "colab": {
          "base_uri": "https://localhost:8080/"
        },
        "id": "nbGOjPYjW_Zk",
        "outputId": "f3ecf600-d2a7-49d7-c41a-ec6aa616e84f"
      },
      "execution_count": 8,
      "outputs": [
        {
          "output_type": "stream",
          "name": "stdout",
          "text": [
            "80\n",
            "<__main__.test object at 0x7f5aad123430>\n"
          ]
        }
      ]
    },
    {
      "cell_type": "code",
      "source": [
        "print(t1)"
      ],
      "metadata": {
        "colab": {
          "base_uri": "https://localhost:8080/"
        },
        "id": "83VqiSpGXYj5",
        "outputId": "d2376a07-610f-4b1e-890b-7915391318ae"
      },
      "execution_count": 9,
      "outputs": [
        {
          "output_type": "stream",
          "name": "stdout",
          "text": [
            "<__main__.test object at 0x7f5aad123430>\n"
          ]
        }
      ]
    },
    {
      "cell_type": "markdown",
      "source": [
        "\n",
        "Non-static variables:The variables which are declared by\n",
        "using the name self are known as non-static variables or\n",
        "instance variables.\n",
        "\n",
        "ex:self.x=10\n",
        "\n",
        "   self.y=20"
      ],
      "metadata": {
        "id": "Q_v8VEw5Zgje"
      }
    },
    {
      "cell_type": "markdown",
      "source": [
        "**properties of non-static varible**\n",
        "\n",
        "If the data is changing from object to object then we require non-static varaible \n",
        "\n",
        "For non-static varible memory will be alloacted by object\n",
        "\n",
        "Non static varibles are defined within the class and within method\n",
        "\n",
        "Inside the class of all methods non static varaible can be accessed using: self\n",
        "\n",
        "Outside the class non static varaible will accessed using refernce variable: t1.x \n",
        "\n",
        " whenever object is created,that memorylocationaddress of that object is taken by python interpreterand creates indirect address and this indirect address is allocated to a variable called reference variable(t1)\n",
        "\n",
        "       ex: print(e1)-------->prints the address i.e in-direct address of the object\n",
        "\n",
        "\n",
        "  with respect to every object creation,seperate copy of memory will be allocated to non-static variables of the class.\n",
        "  \n",
        "       ex: emp e1 will have its own data(variables) and methods\n",
        "           emp e2 will have its own data(variables) and methods\n",
        "\n",
        "    "
      ],
      "metadata": {
        "id": "nVa2mz8QaFhX"
      }
    },
    {
      "cell_type": "markdown",
      "source": [
        "# Diff b/w Local variables and Non-static variables\n",
        "\n",
        "- Both will be within the class and within the methods,\n",
        "\n",
        "-Local variables defined normally where as\n",
        " NSV's are defined by using self\n",
        "\n",
        "-Local variables can be accessed only by that particular method\n",
        "-NSV's can be accessed by all the methods"
      ],
      "metadata": {
        "id": "w7BXFgrqdKRx"
      }
    },
    {
      "cell_type": "markdown",
      "source": [
        "Object: The concept of allocating memory for non-static\n",
        "        variable of a class at the time of execution of the\n",
        "        program is known as a object\n",
        "\n",
        "      Instance of a class is known as a object\n",
        "      syntax of object:\n",
        "          refvariable=classname() #object creation stmt\n",
        "      here refvariable stores address of the object(in-direct address)\n",
        "      \n",
        "\n",
        "      Reference variable:whenever object is created,that memory\n",
        "      location address of the object is taken by\n",
        "      python interpreter and creates indirect address\n",
        "      and this indirect address is allocated to a variable\n",
        "      called reference variable.\n",
        "\n",
        "       Using reference variable,we do the following.\n",
        "       \n",
        "       1.we can put data into the object\n",
        "       2.we can get the data from the object\n",
        "       3.we can call the methods on that object.\n",
        "       We can create 'n' no of objects for a class\n",
        "       2 different objects of the same class also doesn't\n",
        "       contain same indirect address."
      ],
      "metadata": {
        "id": "hZmKHW2zddv-"
      }
    },
    {
      "cell_type": "code",
      "source": [],
      "metadata": {
        "id": "x5vu_QRwYNnV"
      },
      "execution_count": null,
      "outputs": []
    },
    {
      "cell_type": "code",
      "source": [],
      "metadata": {
        "id": "k6P18c7YaDre"
      },
      "execution_count": null,
      "outputs": []
    }
  ]
}
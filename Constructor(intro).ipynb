{
  "nbformat": 4,
  "nbformat_minor": 0,
  "metadata": {
    "colab": {
      "provenance": [],
      "authorship_tag": "ABX9TyN/EJVHOEGaLNaOcPWAKGg/",
      "include_colab_link": true
    },
    "kernelspec": {
      "name": "python3",
      "display_name": "Python 3"
    },
    "language_info": {
      "name": "python"
    }
  },
  "cells": [
    {
      "cell_type": "markdown",
      "metadata": {
        "id": "view-in-github",
        "colab_type": "text"
      },
      "source": [
        "<a href=\"https://colab.research.google.com/github/kiran-pyt/OOP/blob/main/Constructor(intro).ipynb\" target=\"_parent\"><img src=\"https://colab.research.google.com/assets/colab-badge.svg\" alt=\"Open In Colab\"/></a>"
      ]
    },
    {
      "cell_type": "code",
      "execution_count": null,
      "metadata": {
        "id": "BvgEn_x8r32_"
      },
      "outputs": [],
      "source": [
        "\n",
        "Constructor :Constructor is a special kind of method which is used to initialize\n",
        "             the non-static variables of a class at the time of creation of\n",
        "             the object.\n",
        "\n",
        "Properties of a constructor:\n",
        "    \n",
        "1.Constructors are used to initialize NSV's of a class during object creation only.\n",
        "\n",
        "2.Constructor executed automatically whenever object is created.\n",
        "  but normal methods we need to call using object.\n",
        "  \n",
        "3.For one object,constructor will be executed only once,bcoz only once we initialize\n",
        "\n",
        "4.Constructor should always be defined with the name __init__()\n",
        "\n",
        "syntax: def __init__(self,parameters):\n",
        "             ---------------------\n",
        "             ---------------------\n",
        "             ---------------------\n",
        "             ---------------------\n",
        "             ---------------------\n",
        "             ---------------------\n",
        "\n",
        "  Difference between Methods and constructors\n",
        "           Methods                      Constructors\n",
        "1.Method name can be any name         1.Constructor name should be __init__()\n",
        "\n",
        "2.Methods are used to represent       2.Constructors are used to initialize\n",
        "  the Bussiness logics to               the Non-static variables of a class\n",
        "  perform the operations\n",
        "  \n",
        "3.Method will be executed whenever    3.Constructor will be executed automatically\n",
        "  we make a method call using object    whenever we create a object.\n",
        "  \n",
        "4.with respect to one object ,         4.with respect to one object, \n",
        "  a method can be called for             a constuctor will be executed only once.\n",
        "  'n' no of times."
      ]
    },
    {
      "cell_type": "code",
      "source": [],
      "metadata": {
        "id": "gFqnsJU3sBsx"
      },
      "execution_count": null,
      "outputs": []
    },
    {
      "cell_type": "code",
      "source": [],
      "metadata": {
        "id": "d0oCM_Sqr5t3"
      },
      "execution_count": null,
      "outputs": []
    }
  ]
}
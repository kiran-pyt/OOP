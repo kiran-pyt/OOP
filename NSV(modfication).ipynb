{
  "nbformat": 4,
  "nbformat_minor": 0,
  "metadata": {
    "colab": {
      "provenance": [],
      "authorship_tag": "ABX9TyOx5TpHdff47e2dV+21JQZl",
      "include_colab_link": true
    },
    "kernelspec": {
      "name": "python3",
      "display_name": "Python 3"
    },
    "language_info": {
      "name": "python"
    }
  },
  "cells": [
    {
      "cell_type": "markdown",
      "metadata": {
        "id": "view-in-github",
        "colab_type": "text"
      },
      "source": [
        "<a href=\"https://colab.research.google.com/github/kiran-pyt/OOP/blob/main/NSV(modfication).ipynb\" target=\"_parent\"><img src=\"https://colab.research.google.com/assets/colab-badge.svg\" alt=\"Open In Colab\"/></a>"
      ]
    },
    {
      "cell_type": "code",
      "execution_count": 3,
      "metadata": {
        "id": "H16hhcDadt_q"
      },
      "outputs": [],
      "source": [
        "class test:\n",
        "  x=10\n",
        "  y=20\n",
        "  def m1(self):\n",
        "    self.x=20\n",
        "    self.y=30\n",
        "    print(self.x+self.y)\n",
        "    print(self)\n",
        "    print(id(self.x))\n",
        "    print(id(self.y))\n",
        "t1=test() ## -------------------------->here object will be created with some address whose address will be taken python \n",
        "                                        #interpeter will returen indirect address whose adrres will be reference varaible t1 from here the address will taken by method(m1) to intialize the Non-Static varibles "
      ]
    },
    {
      "cell_type": "code",
      "source": [
        "t1.m1()"
      ],
      "metadata": {
        "colab": {
          "base_uri": "https://localhost:8080/"
        },
        "id": "TAUZrdejkgTm",
        "outputId": "79fde48b-f61a-4cd6-81ff-c9474edc8b17"
      },
      "execution_count": 4,
      "outputs": [
        {
          "output_type": "stream",
          "name": "stdout",
          "text": [
            "50\n",
            "<__main__.test object at 0x7f9505440dc0>\n",
            "140278791011216\n",
            "140278791011536\n"
          ]
        }
      ]
    },
    {
      "cell_type": "code",
      "source": [
        "print(t1)"
      ],
      "metadata": {
        "colab": {
          "base_uri": "https://localhost:8080/"
        },
        "id": "4b2rGutYkif_",
        "outputId": "8fe4643b-b241-4310-9a95-21149cafbcdc"
      },
      "execution_count": 5,
      "outputs": [
        {
          "output_type": "stream",
          "name": "stdout",
          "text": [
            "<__main__.test object at 0x7f9505440dc0>\n"
          ]
        }
      ]
    },
    {
      "cell_type": "code",
      "source": [
        "t1.x=40\n",
        "print(t1.x)\n",
        "print(id(t1.x))"
      ],
      "metadata": {
        "colab": {
          "base_uri": "https://localhost:8080/"
        },
        "id": "D8duVJ0box5S",
        "outputId": "f342dff4-0880-417c-a58f-69d1c961db2e"
      },
      "execution_count": 14,
      "outputs": [
        {
          "output_type": "stream",
          "name": "stdout",
          "text": [
            "40\n",
            "140278791011856\n"
          ]
        }
      ]
    },
    {
      "cell_type": "code",
      "source": [
        "t2=test()"
      ],
      "metadata": {
        "id": "qKn0XIgNpC3G"
      },
      "execution_count": 15,
      "outputs": []
    },
    {
      "cell_type": "code",
      "source": [
        "t2.m1()"
      ],
      "metadata": {
        "colab": {
          "base_uri": "https://localhost:8080/"
        },
        "id": "MTolX88FpFqe",
        "outputId": "144a4a3d-e354-4cc4-b656-40b1c915ad39"
      },
      "execution_count": 16,
      "outputs": [
        {
          "output_type": "stream",
          "name": "stdout",
          "text": [
            "50\n",
            "<__main__.test object at 0x7f95141b7490>\n",
            "140278791011216\n",
            "140278791011536\n"
          ]
        }
      ]
    },
    {
      "cell_type": "code",
      "source": [
        "print(t2)\n",
        "t2.m1()\n",
        "print(t2.x,type(t2.x))\n",
        "print(id(t2.x))\n",
        "t2.x=100\n",
        "print(t2.x)\n",
        "print(id(t2.x))\n"
      ],
      "metadata": {
        "colab": {
          "base_uri": "https://localhost:8080/"
        },
        "id": "DLd3Y-qxps4w",
        "outputId": "cf4d07b4-3b87-4826-af5f-c8d9688912d3"
      },
      "execution_count": 20,
      "outputs": [
        {
          "output_type": "stream",
          "name": "stdout",
          "text": [
            "<__main__.test object at 0x7f95141b7490>\n",
            "50\n",
            "<__main__.test object at 0x7f95141b7490>\n",
            "140278791011216\n",
            "140278791011536\n",
            "20 <class 'int'>\n",
            "140278791011216\n",
            "100\n",
            "140278791202256\n"
          ]
        }
      ]
    },
    {
      "cell_type": "code",
      "source": [
        "print(t1.x)"
      ],
      "metadata": {
        "colab": {
          "base_uri": "https://localhost:8080/"
        },
        "id": "D59xkmRlqPF2",
        "outputId": "21499362-929b-4f34-cb2f-0017c177ac68"
      },
      "execution_count": 21,
      "outputs": [
        {
          "output_type": "stream",
          "name": "stdout",
          "text": [
            "40\n"
          ]
        }
      ]
    },
    {
      "cell_type": "code",
      "source": [
        "print(t2.x)"
      ],
      "metadata": {
        "colab": {
          "base_uri": "https://localhost:8080/"
        },
        "id": "Dcr2uTvMqWCA",
        "outputId": "58d0fd2b-74b0-4996-c7b7-9ec35645b888"
      },
      "execution_count": 22,
      "outputs": [
        {
          "output_type": "stream",
          "name": "stdout",
          "text": [
            "100\n"
          ]
        }
      ]
    },
    {
      "cell_type": "code",
      "source": [
        "print(\"sum=\",t1.x+t2.x)"
      ],
      "metadata": {
        "colab": {
          "base_uri": "https://localhost:8080/"
        },
        "id": "QhiP-M8HqaYh",
        "outputId": "d49d18ee-2d1d-466c-a1ef-665a0f5b96bd"
      },
      "execution_count": 23,
      "outputs": [
        {
          "output_type": "stream",
          "name": "stdout",
          "text": [
            "sum= 140\n"
          ]
        }
      ]
    },
    {
      "cell_type": "code",
      "source": [],
      "metadata": {
        "id": "NnizF5Toqs1S"
      },
      "execution_count": null,
      "outputs": []
    }
  ]
}
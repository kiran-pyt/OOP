{
  "nbformat": 4,
  "nbformat_minor": 0,
  "metadata": {
    "colab": {
      "provenance": [],
      "authorship_tag": "ABX9TyOEjr6VdlCuIJ3JxFXVrQjp",
      "include_colab_link": true
    },
    "kernelspec": {
      "name": "python3",
      "display_name": "Python 3"
    },
    "language_info": {
      "name": "python"
    }
  },
  "cells": [
    {
      "cell_type": "markdown",
      "metadata": {
        "id": "view-in-github",
        "colab_type": "text"
      },
      "source": [
        "<a href=\"https://colab.research.google.com/github/kiran-pyt/OOP/blob/main/Static_varibles(examples).ipynb\" target=\"_parent\"><img src=\"https://colab.research.google.com/assets/colab-badge.svg\" alt=\"Open In Colab\"/></a>"
      ]
    },
    {
      "cell_type": "code",
      "execution_count": 6,
      "metadata": {
        "colab": {
          "base_uri": "https://localhost:8080/"
        },
        "id": "OrnePzkX-0R0",
        "outputId": "490a7685-0a63-4ae9-8c92-7e4f4d64bafd"
      },
      "outputs": [
        {
          "output_type": "stream",
          "name": "stdout",
          "text": [
            "10\n",
            "10\n",
            "10\n"
          ]
        }
      ],
      "source": [
        "class test:                   #--------------------- Define class\n",
        "  x=10                        #--------------------- static varible declartion\n",
        "  def display(self):          #--------------------- method declartion\n",
        "    print(test.x)             #----------------------Accessing the static varible\n",
        "  def show(self):             #--------------------- method declartion\n",
        "    print(test.x)             #----------------------Accessing the static varible\n",
        "t1=test()                     #----------------------Object creation statment\n",
        "t1.display()                  #----------------------calling the method\n",
        "t1.show()\n",
        "print(test.x)                 #----------------------Accessing the static varible outside the class"
      ]
    },
    {
      "cell_type": "code",
      "source": [],
      "metadata": {
        "id": "RYbSzXih_7cE"
      },
      "execution_count": null,
      "outputs": []
    }
  ]
}
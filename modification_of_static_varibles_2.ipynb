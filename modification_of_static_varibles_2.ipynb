{
  "nbformat": 4,
  "nbformat_minor": 0,
  "metadata": {
    "colab": {
      "provenance": [],
      "authorship_tag": "ABX9TyMsdIYe89yNXtByQkvGVcmm",
      "include_colab_link": true
    },
    "kernelspec": {
      "name": "python3",
      "display_name": "Python 3"
    },
    "language_info": {
      "name": "python"
    }
  },
  "cells": [
    {
      "cell_type": "markdown",
      "metadata": {
        "id": "view-in-github",
        "colab_type": "text"
      },
      "source": [
        "<a href=\"https://colab.research.google.com/github/kiran-pyt/OOP/blob/main/modification_of_static_varibles_2.ipynb\" target=\"_parent\"><img src=\"https://colab.research.google.com/assets/colab-badge.svg\" alt=\"Open In Colab\"/></a>"
      ]
    },
    {
      "cell_type": "code",
      "execution_count": 14,
      "metadata": {
        "colab": {
          "base_uri": "https://localhost:8080/"
        },
        "id": "S1Em60stgX5S",
        "outputId": "6320375a-1ddf-4520-b78b-f541902e9be7"
      },
      "outputs": [
        {
          "output_type": "stream",
          "name": "stdout",
          "text": [
            "110\n",
            "220\n",
            "140\n",
            "260\n",
            "150\n",
            "280\n",
            "180\n",
            "320\n"
          ]
        }
      ],
      "source": [
        "#creating multiple objects\n",
        "\n",
        "class test:   \n",
        "    \"\"\"sample class\"\"\"\n",
        "    x=100 #static variable\n",
        "    y=200 #static variable\n",
        "    def m1(self):\n",
        "        test.x=test.x+10\n",
        "        test.y=test.y+20\n",
        "        print(test.x)\n",
        "        print(test.y)\n",
        "    def m2(self):\n",
        "        test.x=test.x+30 \n",
        "        test.y=test.y+40\n",
        "        print(test.x)\n",
        "        print(test.y) \n",
        "#end of class\n",
        "\n",
        "t1=test() #creating object\n",
        "t1.m1()# prints x=110 y=220\n",
        "t1.m2()# adds 30 and 40 to modified values of x and y,i.e,x=140 y=260 ---->these values stored in a static block\n",
        "\n",
        "\n",
        "t2=test()#creating one more object,here each object takes value\n",
        "          #from static block\n",
        "t2.m1()  #prints  x=150 , y=280\n",
        "t2.m2()  #prints  x=180   y=320\n",
        "\n",
        "#if u r modifying a static varible, the modified values will be reflected in all\n",
        "#the methods and objects\n",
        "\n",
        "\n",
        "\n",
        "\n",
        "\n"
      ]
    },
    {
      "cell_type": "code",
      "source": [],
      "metadata": {
        "id": "nthr-p5qimo3"
      },
      "execution_count": 13,
      "outputs": []
    },
    {
      "cell_type": "code",
      "source": [],
      "metadata": {
        "id": "UdCr9I1vi8YY"
      },
      "execution_count": null,
      "outputs": []
    }
  ]
}
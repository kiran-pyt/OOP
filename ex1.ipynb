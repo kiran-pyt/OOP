{
  "nbformat": 4,
  "nbformat_minor": 0,
  "metadata": {
    "colab": {
      "provenance": [],
      "authorship_tag": "ABX9TyMjSWPQuz7ANCJLtbRUtrq6",
      "include_colab_link": true
    },
    "kernelspec": {
      "name": "python3",
      "display_name": "Python 3"
    },
    "language_info": {
      "name": "python"
    }
  },
  "cells": [
    {
      "cell_type": "markdown",
      "metadata": {
        "id": "view-in-github",
        "colab_type": "text"
      },
      "source": [
        "<a href=\"https://colab.research.google.com/github/kiran-pyt/OOP/blob/main/ex1.ipynb\" target=\"_parent\"><img src=\"https://colab.research.google.com/assets/colab-badge.svg\" alt=\"Open In Colab\"/></a>"
      ]
    },
    {
      "cell_type": "code",
      "execution_count": 1,
      "metadata": {
        "colab": {
          "base_uri": "https://localhost:8080/"
        },
        "id": "LFQyG2p-rQCa",
        "outputId": "654fecc7-15b6-485e-9d2c-cc255a749a2d"
      },
      "outputs": [
        {
          "output_type": "stream",
          "name": "stdout",
          "text": [
            "4.5\n",
            "2.6\n",
            "10 <class 'int'>\n",
            "20\n"
          ]
        }
      ],
      "source": [
        "#program to access static and non-static variables from outside the class\n",
        "class sample:\n",
        "    a=4.5\n",
        "    b=2.6\n",
        "    def display(self):\n",
        "        self.x=10 #non-static variable.\n",
        "        self.y=20 #non-static variable.\n",
        "#end of the class            \n",
        "s1=sample() #here no NSV's ,bcoz values will be allocated when method is executed\n",
        "s1.display()#now values allocated and stored in an object and object in-direct address stored in reference variable \n",
        "print(sample.a)#static variable accessed using class name \n",
        "print(sample.b)\n",
        "\n",
        "print(s1.x,type(s1.x))#NSV accessed using reference variable\n",
        "print(s1.y)#if we execute these 2 stmts without executing s1.display()method\n",
        "#we get error bcoz, values wont be allocated to x and y,so call s1.display() first.\n",
        "#but without calling a method, I want NSVs to get initialized,then go for constructors.\n",
        "#To overcome this, allocate values for NSVs during object creation only using constructor.\n"
      ]
    },
    {
      "cell_type": "code",
      "source": [],
      "metadata": {
        "id": "f4riHOeIrSy7"
      },
      "execution_count": null,
      "outputs": []
    }
  ]
}
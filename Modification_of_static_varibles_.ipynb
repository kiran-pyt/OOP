{
  "nbformat": 4,
  "nbformat_minor": 0,
  "metadata": {
    "colab": {
      "provenance": [],
      "authorship_tag": "ABX9TyMyF8+kXJCIQIYzdga1nIdh",
      "include_colab_link": true
    },
    "kernelspec": {
      "name": "python3",
      "display_name": "Python 3"
    },
    "language_info": {
      "name": "python"
    }
  },
  "cells": [
    {
      "cell_type": "markdown",
      "metadata": {
        "id": "view-in-github",
        "colab_type": "text"
      },
      "source": [
        "<a href=\"https://colab.research.google.com/github/kiran-pyt/OOP/blob/main/Modification_of_static_varibles_.ipynb\" target=\"_parent\"><img src=\"https://colab.research.google.com/assets/colab-badge.svg\" alt=\"Open In Colab\"/></a>"
      ]
    },
    {
      "cell_type": "code",
      "execution_count": 6,
      "metadata": {
        "id": "DmF0fT5kA8Ao"
      },
      "outputs": [],
      "source": [
        "class test:\n",
        "  \"\"\" Modification of class variables \"\"\"\n",
        "  x=10\n",
        "  y=20\n",
        "  def display(self):\n",
        "    print(test.x)\n",
        "    print(test.y)\n",
        "    test.x=30\n",
        "    test.y=40\n",
        "  def show(self):\n",
        "    print(test.x)\n",
        "    print(test.y)\n",
        "t1=test()          # defining the object statement"
      ]
    },
    {
      "cell_type": "code",
      "source": [
        "t1.show()          # calling show method which prints x=10,y=20"
      ],
      "metadata": {
        "colab": {
          "base_uri": "https://localhost:8080/"
        },
        "id": "LuffgQxgZnzu",
        "outputId": "2734e353-0567-4d9d-fd83-96301aff0aad"
      },
      "execution_count": 7,
      "outputs": [
        {
          "output_type": "stream",
          "name": "stdout",
          "text": [
            "10\n",
            "20\n"
          ]
        }
      ]
    },
    {
      "cell_type": "code",
      "source": [
        "t1.display()       # calling display method which prints x=10,y=20 and modifies to x=30,y=40"
      ],
      "metadata": {
        "colab": {
          "base_uri": "https://localhost:8080/"
        },
        "id": "6hYvZTJLaHwx",
        "outputId": "667d2194-de4e-4da0-e466-c275e24989eb"
      },
      "execution_count": 8,
      "outputs": [
        {
          "output_type": "stream",
          "name": "stdout",
          "text": [
            "10\n",
            "20\n"
          ]
        }
      ]
    },
    {
      "cell_type": "code",
      "source": [
        "t1.show()          # calling show method which prints x=30,y=40"
      ],
      "metadata": {
        "colab": {
          "base_uri": "https://localhost:8080/"
        },
        "id": "YXlXSFLLbyo-",
        "outputId": "97c1daa7-b78f-475c-db3c-809ca7859830"
      },
      "execution_count": 9,
      "outputs": [
        {
          "output_type": "stream",
          "name": "stdout",
          "text": [
            "30\n",
            "40\n"
          ]
        }
      ]
    },
    {
      "cell_type": "code",
      "source": [
        "t1.display()      # calling display method which prints x=30,y=40"
      ],
      "metadata": {
        "colab": {
          "base_uri": "https://localhost:8080/"
        },
        "id": "RODEIgSPab4o",
        "outputId": "15d93742-a962-4abb-a440-2f3dde666fab"
      },
      "execution_count": 10,
      "outputs": [
        {
          "output_type": "stream",
          "name": "stdout",
          "text": [
            "30\n",
            "40\n"
          ]
        }
      ]
    },
    {
      "cell_type": "code",
      "source": [
        "t2=test()        # creating second object"
      ],
      "metadata": {
        "id": "z5V9A3wIcd8F"
      },
      "execution_count": 11,
      "outputs": []
    },
    {
      "cell_type": "code",
      "source": [
        "t2.show()       # calling show method which prints x=30,y=40"
      ],
      "metadata": {
        "colab": {
          "base_uri": "https://localhost:8080/"
        },
        "id": "HLU5_Vokc8rw",
        "outputId": "62bd15e5-5c17-4d17-b08c-3933754ad171"
      },
      "execution_count": 12,
      "outputs": [
        {
          "output_type": "stream",
          "name": "stdout",
          "text": [
            "30\n",
            "40\n"
          ]
        }
      ]
    },
    {
      "cell_type": "code",
      "source": [
        "t2.display()     # calling display method which prints x=30,y=40"
      ],
      "metadata": {
        "colab": {
          "base_uri": "https://localhost:8080/"
        },
        "id": "qZ9E8h6Rc_Uh",
        "outputId": "239efcca-6394-426b-aa94-c09f301a5ba3"
      },
      "execution_count": 13,
      "outputs": [
        {
          "output_type": "stream",
          "name": "stdout",
          "text": [
            "30\n",
            "40\n"
          ]
        }
      ]
    },
    {
      "cell_type": "code",
      "source": [
        "#modifying SV's from outside the class\n",
        "test.x=50  #Modifying SVs from outside the class\n",
        "test.y=60"
      ],
      "metadata": {
        "id": "cRUt30ssdBp0"
      },
      "execution_count": 14,
      "outputs": []
    },
    {
      "cell_type": "code",
      "source": [
        "print(\"x=\",test.x)\n",
        "print(\"y=\",test.y)\n",
        "t1.show()             #calling display method which prints x=50,y=60\n",
        "t1.display()          #calling display method which prints x=50,y=60 and modifies to x=30 and x=40\n",
        "t1.show()             #calling display method which prints x=30,y=40"
      ],
      "metadata": {
        "colab": {
          "base_uri": "https://localhost:8080/"
        },
        "id": "dzdM0o4ke6q8",
        "outputId": "9523d624-934a-4b0a-8170-4110d70a34f5"
      },
      "execution_count": 15,
      "outputs": [
        {
          "output_type": "stream",
          "name": "stdout",
          "text": [
            "x= 50\n",
            "y= 60\n",
            "50\n",
            "60\n",
            "50\n",
            "60\n",
            "30\n",
            "40\n"
          ]
        }
      ]
    },
    {
      "cell_type": "code",
      "source": [],
      "metadata": {
        "id": "ICOGE0Lve9E9"
      },
      "execution_count": 15,
      "outputs": []
    }
  ]
}